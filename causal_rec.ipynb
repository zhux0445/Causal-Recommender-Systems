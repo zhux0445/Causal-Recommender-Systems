{
 "cells": [
  {
   "cell_type": "code",
   "execution_count": 1,
   "metadata": {},
   "outputs": [],
   "source": [
    "import numpy as np\n",
    "import numpy.random as npr\n",
    "import matplotlib.pyplot as plt\n",
    "import pandas as pd\n",
    "\n",
    "from pmf import PoissonMF\n",
    "from numpy import linalg as LA\n",
    "from scipy import sparse\n",
    "from scipy.sparse import csr_matrix\n",
    "import scipy.sparse as spLA\n",
    "from scipy.sparse.linalg import spsolve\n",
    "from causalrec import *\n",
    "from numba import jit\n",
    "\n",
    "%matplotlib inline"
   ]
  },
  {
   "cell_type": "code",
   "execution_count": 2,
   "metadata": {},
   "outputs": [],
   "source": [
    "# Load raw data\n",
    "\n",
    "# file_path = \"C:/Users/kenny/Desktop/Spring 2021/CSE547_Project/data/MovieLens.training\"\n",
    "file_path = \"data/MovieLens.training\"\n",
    "\n",
    "train_cols = ['user_id', 'item_id', 'rating', 'timestamp']\n",
    "trainDf = pd.read_csv(file_path, sep='\\t', lineterminator='\\n')\n",
    "trainDf.columns = train_cols\n",
    "trainDf=trainDf.drop([\"timestamp\"], axis=1)\n",
    "\n",
    "n_users = 943\n",
    "n_movies = 1682\n",
    "\n",
    "trainDf[\"user_id\"] -= 1\n",
    "trainDf[\"item_id\"] -= 1"
   ]
  },
  {
   "cell_type": "code",
   "execution_count": 3,
   "metadata": {},
   "outputs": [
    {
     "name": "stdout",
     "output_type": "stream",
     "text": [
      "(943, 1682)\n"
     ]
    }
   ],
   "source": [
    "# Clean data and setup for estimation\n",
    "data = load_data(trainDf, shape=(n_users, n_movies), colnames=['user_id', 'item_id', 'rating'])\n",
    "print(data.shape)\n",
    "data_imp = exp_to_imp(data, 0.5)\n",
    "data_coo = data_imp.tocoo()\n",
    "row_tr, col_tr = data_coo.row, data_coo.col\n",
    "\n",
    "R = data.toarray()\n",
    "I = np.zeros((n_users, n_movies))\n",
    "for u, i in zip(np.array(trainDf[\"user_id\"]), np.array(trainDf[\"item_id\"])):\n",
    "    I[u, i] = 1"
   ]
  },
  {
   "cell_type": "code",
   "execution_count": 4,
   "metadata": {},
   "outputs": [
    {
     "name": "stdout",
     "output_type": "stream",
     "text": [
      "(943, 10)\n",
      "(1682, 10)\n"
     ]
    }
   ],
   "source": [
    "# Exposure model\n",
    "pf = PoissonMF(n_components=10, max_iter=100)\n",
    "pf.fit(data, row_tr, col_tr)\n",
    "pi, lamb = pf.Eb.copy(), pf.Et.T\n",
    "\n",
    "print(pi.shape)\n",
    "print(lamb.shape)\n",
    "\n",
    "a_hat = np.matmul(pi,lamb.T)"
   ]
  },
  {
   "cell_type": "code",
   "execution_count": 5,
   "metadata": {},
   "outputs": [
    {
     "name": "stderr",
     "output_type": "stream",
     "text": [
      "/Users/apara/.local/lib/python3.8/site-packages/scipy/sparse/_index.py:124: SparseEfficiencyWarning: Changing the sparsity structure of a csr_matrix is expensive. lil_matrix is more efficient.\n",
      "  self._set_arrayXarray(i, j, x)\n"
     ]
    },
    {
     "data": {
      "text/plain": [
       "0.4300913742944317"
      ]
     },
     "execution_count": 5,
     "metadata": {},
     "output_type": "execute_result"
    }
   ],
   "source": [
    "# Outcome model\n",
    "loss, U, V, gamma = estimate_latent_features(R, I, a_hat, 943, 1682, 10, 0.001, 20)\n",
    "R_hat = estimate_ratings(U, V, gamma, a_hat, I)\n",
    "\n",
    "# Errors\n",
    "R_hat_I = []\n",
    "for n in range(len(trainDf)):\n",
    "    u = trainDf[\"user_id\"][n]\n",
    "    i = trainDf[\"item_id\"][n]\n",
    "    R_hat_I.append(R_hat[u, i])\n",
    "rmse = np.mean((trainDf[\"rating\"] - R_hat_I)**2)\n",
    "rmse"
   ]
  },
  {
   "cell_type": "code",
   "execution_count": 6,
   "metadata": {},
   "outputs": [
    {
     "data": {
      "image/png": "[encoded data removed]",
      "text/plain": [
       "<Figure size 432x288 with 1 Axes>"
      ]
     },
     "metadata": {
      "needs_background": "light"
     },
     "output_type": "display_data"
    }
   ],
   "source": [
    "plt.plot(np.arange(1,len(loss)+1,1), loss)\n",
    "plt.title('Cost function vs iterations')\n",
    "plt.xlabel('iterations')\n",
    "plt.ylabel('Cost')\n",
    "plt.show()"
   ]
  },
  {
   "cell_type": "markdown",
   "metadata": {},
   "source": [
    "## Tests on simulation"
   ]
  },
  {
   "cell_type": "code",
   "execution_count": 7,
   "metadata": {},
   "outputs": [],
   "source": [
    "# Data simulation\n",
    "n_users, n_items = 1000, 1000\n",
    "K = 10\n",
    "\n",
    "ydf, ydf_obs, Adf = simulate_data(0.5, 0.5, n_users, n_items, K)\n",
    "\n",
    "data = load_data(ydf_obs, shape=(n_users, n_items), colnames=[\"uid\", \"sid\", \"rating\"])\n",
    "data_imp = exp_to_imp(data, 0.5)\n",
    "data_coo = data_imp.tocoo()\n",
    "row_tr, col_tr = data_coo.row, data_coo.col\n",
    "R = data.toarray()\n",
    "I = np.zeros((n_users, n_items))\n",
    "for u, i in zip(np.array(ydf_obs[\"uid\"]), np.array(ydf_obs[\"sid\"])):\n",
    "    I[u, i] = 1"
   ]
  },
  {
   "cell_type": "code",
   "execution_count": 8,
   "metadata": {},
   "outputs": [
    {
     "name": "stdout",
     "output_type": "stream",
     "text": [
      "(1000, 10)\n",
      "(1000, 10)\n"
     ]
    }
   ],
   "source": [
    "# Exposure model\n",
    "pf = PoissonMF(n_components=10, max_iter=100)\n",
    "pf.fit(data, row_tr, col_tr)\n",
    "pi, lamb = pf.Eb.copy(), pf.Et.T\n",
    "\n",
    "print(pi.shape)\n",
    "print(lamb.shape)\n",
    "\n",
    "a_hat = np.matmul(pi,lamb.T)"
   ]
  },
  {
   "cell_type": "code",
   "execution_count": 9,
   "metadata": {},
   "outputs": [
    {
     "name": "stderr",
     "output_type": "stream",
     "text": [
      "/Users/apara/.local/lib/python3.8/site-packages/scipy/sparse/_index.py:124: SparseEfficiencyWarning: Changing the sparsity structure of a csr_matrix is expensive. lil_matrix is more efficient.\n",
      "  self._set_arrayXarray(i, j, x)\n"
     ]
    }
   ],
   "source": [
    "# Outcome model\n",
    "loss, U, V, gamma = estimate_latent_features(R, I, a_hat, n_users, n_items, 10, 0.001, 20)\n",
    "R_hat = estimate_ratings(U, V, gamma, a_hat, I)"
   ]
  },
  {
   "cell_type": "code",
   "execution_count": 10,
   "metadata": {},
   "outputs": [
    {
     "name": "stdout",
     "output_type": "stream",
     "text": [
      "0.3021667126195204\n",
      "0.14434738103998604\n"
     ]
    }
   ],
   "source": [
    "# Errors\n",
    "rmse = np.mean((ydf[\"rating\"] - np.reshape(R_hat, (-1,)))**2)\n",
    "print(rmse)\n",
    "\n",
    "R_hat_I = []\n",
    "for n in range(len(ydf_obs)):\n",
    "    u = ydf_obs[\"uid\"][n]\n",
    "    i = ydf_obs[\"sid\"][n]\n",
    "    R_hat_I.append(R_hat[u, i])\n",
    "rmse = np.mean((ydf_obs[\"rating\"] - R_hat_I)**2)\n",
    "print(rmse)"
   ]
  },
  {
   "cell_type": "code",
   "execution_count": null,
   "metadata": {},
   "outputs": [],
   "source": []
  }
 ],
 "metadata": {
  "kernelspec": {
   "display_name": "Python 3",
   "language": "python",
   "name": "python3"
  },
  "language_info": {
   "codemirror_mode": {
    "name": "ipython",
    "version": 3
   },
   "file_extension": ".py",
   "mimetype": "text/x-python",
   "name": "python",
   "nbconvert_exporter": "python",
   "pygments_lexer": "ipython3",
   "version": "3.8.5"
  }
 },
 "nbformat": 4,
 "nbformat_minor": 5
}
