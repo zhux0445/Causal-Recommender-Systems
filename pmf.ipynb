{
 "cells": [
  {
   "cell_type": "code",
   "execution_count": 3,
   "metadata": {},
   "outputs": [],
   "source": [
    "import numpy as np\n",
    "import numpy.random as npr\n",
    "import matplotlib.pyplot as plt\n",
    "import pandas as pd\n",
    "\n",
    "from pmf import PoissonMF\n",
    "from scipy import sparse\n",
    "\n",
    "%matplotlib inline"
   ]
  },
  {
   "cell_type": "markdown",
   "metadata": {},
   "source": [
    "## Simulate data"
   ]
  },
  {
   "cell_type": "code",
   "execution_count": 4,
   "metadata": {},
   "outputs": [],
   "source": [
    "n_users, n_items = 1000, 1000\n",
    "K = 10\n",
    "\n",
    "def simulate_data(corr, gamma):\n",
    "    theta_A = npr.gamma(0.3, scale=0.3, size=(n_users, K))\n",
    "    beta = npr.gamma(0.3, scale=0.3, size=(n_items, K))\n",
    "    A = np.minimum(npr.poisson(theta_A.dot(beta.T)), 1)\n",
    "    theta_Y = corr * theta_A + (1 - corr) * npr.gamma(0.3, scale=0.3, size=(n_users, K))\n",
    "    y = npr.poisson(theta_Y.dot(beta.T) + gamma * theta_A.dot(beta.T))\n",
    "    y = np.minimum(y+1, 5)\n",
    "    y_obs = np.multiply(A, y)\n",
    "    y = sparse.coo_matrix(y)\n",
    "    A = sparse.coo_matrix(A)\n",
    "    ydf = pd.DataFrame({'uid': y.row, 'sid': y.col, 'rating':y.data})\n",
    "    Adf = pd.DataFrame({'uid': A.row, 'sid': A.col, 'obs':A.data})\n",
    "    return ydf, Adf\n",
    "\n",
    "ydf, Adf = simulate_data(0.5, 0.5)"
   ]
  },
  {
   "cell_type": "code",
   "execution_count": 5,
   "metadata": {},
   "outputs": [
    {
     "data": {
      "text/plain": [
       "(1000000,)"
      ]
     },
     "execution_count": 5,
     "metadata": {},
     "output_type": "execute_result"
    }
   ],
   "source": [
    "ydf[\"uid\"].shape"
   ]
  },
  {
   "cell_type": "code",
   "execution_count": 6,
   "metadata": {},
   "outputs": [],
   "source": [
    "def load_data(df, colnames=[\"uid\", \"sid\", \"rating\"], shape=(n_users, n_items)):\n",
    "    user, item, rating = colnames[0], colnames[1], colnames[2]\n",
    "    rows, cols, vals = np.array(df[user]), np.array(df[item]), np.array(df[rating])\n",
    "    data = sparse.csr_matrix((vals, (rows, cols)), dtype=np.float32, shape=shape)\n",
    "    return data\n",
    "\n",
    "\n",
    "def exp_to_imp(data, cutoff=1e-10):\n",
    "    data_imp = data.copy()\n",
    "    data_imp.data[data_imp.data < cutoff] = 0\n",
    "    data_imp.data[data_imp.data >= cutoff] = 1\n",
    "    data_imp.data = data_imp.data.astype('int32')\n",
    "    data_imp.eliminate_zeros()\n",
    "    return data_imp"
   ]
  },
  {
   "cell_type": "code",
   "execution_count": 7,
   "metadata": {},
   "outputs": [],
   "source": [
    "data = load_data(ydf)\n",
    "data_imp = exp_to_imp(data, 0.5)\n",
    "data_coo = data_imp.tocoo()\n",
    "row_tr, col_tr = data_coo.row, data_coo.col"
   ]
  },
  {
   "cell_type": "code",
   "execution_count": 8,
   "metadata": {},
   "outputs": [],
   "source": [
    "pf = PoissonMF(n_components=10, max_iter=1)\n",
    "pf.fit(data, row_tr, col_tr)\n",
    "pi, lamb = pf.Eb.copy(), pf.Et.T"
   ]
  },
  {
   "cell_type": "code",
   "execution_count": 9,
   "metadata": {},
   "outputs": [
    {
     "name": "stdout",
     "output_type": "stream",
     "text": [
      "(1000, 10)\n",
      "(1000, 10)\n"
     ]
    }
   ],
   "source": [
    "print(pi.shape)\n",
    "print(lamb.shape)"
   ]
  },
  {
   "cell_type": "markdown",
   "metadata": {},
   "source": [
    "## Movie data"
   ]
  },
  {
   "cell_type": "code",
   "execution_count": 10,
   "metadata": {},
   "outputs": [
    {
     "name": "stdout",
     "output_type": "stream",
     "text": [
      "(1682, 21)\n",
      "(943, 24)\n",
      "(100000, 4)\n"
     ]
    }
   ],
   "source": [
    "data_dir = \"./data/ml-100k/\"\n",
    "\n",
    "# Read movies\n",
    "movies_colnames = [\"id\", \"name\", \"year\", \"\", \"url\", \"unknown\", \"Action\", \"Adventure\",\n",
    "                   \"Animation\", \"Children\", \"Comedy\", \"Crime\", \"Documentary\", \"Drama\",\n",
    "                   \"Fantasy\", \"Film-Noir\", \"Horror\", \"Musical\", \"Mystery\", \"Romance\",\n",
    "                   \"Sci-fi\", \"Thriller\", \"War\", \"Western\"]\n",
    "movies = pd.read_csv(data_dir + \"u.item\", sep=\"|\", encoding=\"latin-1\",\n",
    "                     names = movies_colnames, header=None)\n",
    "movies = movies.drop([\"\", \"url\", \"id\"], axis=1)\n",
    "movies[\"year\"] = movies[\"year\"].str.split(\"-\").str[-1]\n",
    "# print(movies.head())\n",
    "print(movies.shape)\n",
    "\n",
    "# Read users\n",
    "users_colnames = [\"id\", \"age\", \"gender\", \"occupation\", \"zip\"]\n",
    "users = pd.read_csv(data_dir + \"u.user\", sep=\"|\", encoding=\"latin-1\",\n",
    "                    names = users_colnames, header=None)\n",
    "users = users.drop(['occupation', \"id\"],axis = 1).join(pd.get_dummies(users['occupation']))\n",
    "# print(users.head())\n",
    "print(users.shape)\n",
    "\n",
    "# Read ratings\n",
    "ratings_colnames = [\"user\", \"movie\", \"rating\", \"timestamp\"]\n",
    "ratings = pd.read_csv(data_dir + \"u.data\", sep=\"\\t\", encoding=\"latin-1\",\n",
    "                     names=ratings_colnames, header=None)\n",
    "ratings[\"user\"] -= 1\n",
    "ratings[\"movie\"] -= 1\n",
    "# print(ratings.head())\n",
    "print(ratings.shape)"
   ]
  },
  {
   "cell_type": "code",
   "execution_count": 11,
   "metadata": {},
   "outputs": [
    {
     "name": "stdout",
     "output_type": "stream",
     "text": [
      "(943, 1682)\n"
     ]
    }
   ],
   "source": [
    "n_users = users.shape[0]\n",
    "n_movies = movies.shape[0]\n",
    "data = load_data(ratings, colnames=[\"user\", \"movie\", \"rating\"], shape=(n_users, n_movies))\n",
    "print(data.shape)\n",
    "\n",
    "data_imp = exp_to_imp(data, 0.5)\n",
    "data_coo = data_imp.tocoo()\n",
    "row_tr, col_tr = data_coo.row, data_coo.col"
   ]
  },
  {
   "cell_type": "code",
   "execution_count": 12,
   "metadata": {},
   "outputs": [
    {
     "name": "stdout",
     "output_type": "stream",
     "text": [
      "(943, 10)\n",
      "(1682, 10)\n"
     ]
    }
   ],
   "source": [
    "pf = PoissonMF(n_components=10, max_iter=100)\n",
    "pf.fit(data, row_tr, col_tr)\n",
    "pi, lamb = pf.Eb.copy(), pf.Et.T\n",
    "\n",
    "print(pi.shape)\n",
    "print(lamb.shape)"
   ]
  },
  {
   "cell_type": "code",
   "execution_count": null,
   "metadata": {},
   "outputs": [],
   "source": []
  }
 ],
 "metadata": {
  "kernelspec": {
   "display_name": "Python 3",
   "language": "python",
   "name": "python3"
  },
  "language_info": {
   "codemirror_mode": {
    "name": "ipython",
    "version": 3
   },
   "file_extension": ".py",
   "mimetype": "text/x-python",
   "name": "python",
   "nbconvert_exporter": "python",
   "pygments_lexer": "ipython3",
   "version": "3.8.5"
  }
 },
 "nbformat": 4,
 "nbformat_minor": 4
}
